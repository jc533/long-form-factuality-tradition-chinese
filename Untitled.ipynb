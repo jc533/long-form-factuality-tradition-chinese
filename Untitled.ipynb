{
 "cells": [
  {
   "cell_type": "code",
   "execution_count": 13,
   "id": "acc0a6a9-2f36-4edb-b71e-d73e5b2f855e",
   "metadata": {},
   "outputs": [],
   "source": [
    "from common import utils\n",
    "from eval import metric_utils\n",
    "import matplotlib.pyplot as plt\n",
    "import numpy as np\n",
    "import pandas as pd\n",
    "import os"
   ]
  },
  {
   "cell_type": "code",
   "execution_count": 14,
   "id": "81370be8-09fe-4a38-9413-6f86b9f0a395",
   "metadata": {},
   "outputs": [
    {
     "name": "stdout",
     "output_type": "stream",
     "text": [
      "gpt_4o\n",
      "52.578947368421055 91 51.0\n",
      "gemini_15_pro\n",
      "95.65789473684211 135 96.0\n",
      "claude_35_sonnet\n",
      "88.39473684210526 176 81.5\n",
      "groq_llama3.1_70b\n",
      "74.71052631578948 102 78.5\n",
      "breeze7B\n",
      "53.13157894736842 108 49.5\n"
     ]
    }
   ],
   "source": [
    "folder_path = \"./results/tw-f1\"\n",
    "files = [f for f in os.listdir(folder_path) if os.path.isfile(os.path.join(folder_path, f))]\n",
    "claims = []\n",
    "for file in files:\n",
    "    # print(file)\n",
    "    file_path = os.path.join(folder_path, file)\n",
    "    result_data = utils.read_json(filepath=file_path)\n",
    "    tmp = []\n",
    "    print(result_data['responder_model_short'])\n",
    "    for i in result_data['per_prompt_data']:\n",
    "        claims.append(i['side2_posthoc_eval_data']['num_claims'])\n",
    "        tmp.append(i['side2_posthoc_eval_data']['num_claims'])\n",
    "    tmp = np.array(tmp)\n",
    "    print(tmp.mean(),tmp.max(),np.median(tmp))"
   ]
  },
  {
   "cell_type": "code",
   "execution_count": 15,
   "id": "6ec11223-e947-49ab-adb4-b21613195db9",
   "metadata": {},
   "outputs": [
    {
     "name": "stdout",
     "output_type": "stream",
     "text": [
      "71.0 176\n"
     ]
    }
   ],
   "source": [
    "claims = np.array(claims)\n",
    "print(np.median(claims),claims.max())"
   ]
  },
  {
   "cell_type": "code",
   "execution_count": 16,
   "id": "b084cf86-bc57-4cc9-bbdb-6a792f0d409e",
   "metadata": {},
   "outputs": [
    {
     "name": "stdout",
     "output_type": "stream",
     "text": [
      "gpt_4o\n",
      "0.7313223729057284\n",
      "gemini_15_pro\n",
      "0.8927381218184883\n",
      "claude_35_sonnet\n",
      "0.8473120777904233\n",
      "groq_llama3.1_70b\n",
      "0.7926957046623999\n",
      "breeze7B\n",
      "0.5838211459081925\n"
     ]
    }
   ],
   "source": [
    "SUPPORTED_LABEL = 'Supported'\n",
    "NOT_SUPPORTED_LABEL = 'Not Supported'\n",
    "folder_path = \"./results/tw-f1\"\n",
    "files = [f for f in os.listdir(folder_path) if os.path.isfile(os.path.join(folder_path, f))]\n",
    "\n",
    "maybe_max_claims = 71.0\n",
    "data1 = {}\n",
    "for file in files:\n",
    "    # print(file)\n",
    "    file_path = os.path.join(folder_path, file)\n",
    "    result_data = utils.read_json(filepath=file_path)\n",
    "    tmp = []\n",
    "    f1 = []\n",
    "    print(result_data['responder_model_short'])\n",
    "    for prompt_data in result_data['per_prompt_data']:\n",
    "        tmp = metric_utils.calculate_metrics(\n",
    "              supported=prompt_data[\"side2_posthoc_eval_data\"][SUPPORTED_LABEL],\n",
    "              not_supported=prompt_data[\"side2_posthoc_eval_data\"][NOT_SUPPORTED_LABEL],\n",
    "              **({'max_claims': maybe_max_claims} if maybe_max_claims > 0 else {}),\n",
    "          )\n",
    "        f1.append(tmp)\n",
    "    f1 = np.array(f1)\n",
    "    data1[result_data['responder_model_short']] = f1.mean()\n",
    "    print(f1.mean())"
   ]
  },
  {
   "cell_type": "code",
   "execution_count": 5,
   "id": "9e1ac2f0-4eb4-4584-a949-4313648039f3",
   "metadata": {},
   "outputs": [
    {
     "data": {
      "text/plain": [
       "{'gpt_4o': 0.7313223729057284,\n",
       " 'gemini_15_pro': 0.8927381218184883,\n",
       " 'claude_35_sonnet': 0.8473120777904233,\n",
       " 'groq_llama3.1_70b': 0.7926957046623999,\n",
       " 'breeze7B': 0.5838211459081925}"
      ]
     },
     "execution_count": 5,
     "metadata": {},
     "output_type": "execute_result"
    }
   ],
   "source": [
    "data1"
   ]
  },
  {
   "cell_type": "code",
   "execution_count": 17,
   "id": "1cefe2ba-fd58-478e-aedf-3cbb137f4d3b",
   "metadata": {},
   "outputs": [],
   "source": [
    "df = pd.DataFrame.from_dict(data1, orient='index', columns=['F1 @71 (%)'])"
   ]
  },
  {
   "cell_type": "code",
   "execution_count": 21,
   "id": "c6e5df39-2455-4632-a21f-7e192cb3ab3c",
   "metadata": {},
   "outputs": [
    {
     "data": {
      "text/html": [
       "<div>\n",
       "<style scoped>\n",
       "    .dataframe tbody tr th:only-of-type {\n",
       "        vertical-align: middle;\n",
       "    }\n",
       "\n",
       "    .dataframe tbody tr th {\n",
       "        vertical-align: top;\n",
       "    }\n",
       "\n",
       "    .dataframe thead th {\n",
       "        text-align: right;\n",
       "    }\n",
       "</style>\n",
       "<table border=\"1\" class=\"dataframe\">\n",
       "  <thead>\n",
       "    <tr style=\"text-align: right;\">\n",
       "      <th></th>\n",
       "      <th>F1 @71 (%)</th>\n",
       "    </tr>\n",
       "  </thead>\n",
       "  <tbody>\n",
       "    <tr>\n",
       "      <th>gemini_15_pro</th>\n",
       "      <td>0.892738</td>\n",
       "    </tr>\n",
       "    <tr>\n",
       "      <th>claude_35_sonnet</th>\n",
       "      <td>0.847312</td>\n",
       "    </tr>\n",
       "    <tr>\n",
       "      <th>groq_llama3.1_70b</th>\n",
       "      <td>0.792696</td>\n",
       "    </tr>\n",
       "    <tr>\n",
       "      <th>gpt_4o</th>\n",
       "      <td>0.731322</td>\n",
       "    </tr>\n",
       "    <tr>\n",
       "      <th>breeze7B</th>\n",
       "      <td>0.583821</td>\n",
       "    </tr>\n",
       "  </tbody>\n",
       "</table>\n",
       "</div>"
      ],
      "text/plain": [
       "                   F1 @71 (%)\n",
       "gemini_15_pro        0.892738\n",
       "claude_35_sonnet     0.847312\n",
       "groq_llama3.1_70b    0.792696\n",
       "gpt_4o               0.731322\n",
       "breeze7B             0.583821"
      ]
     },
     "execution_count": 21,
     "metadata": {},
     "output_type": "execute_result"
    }
   ],
   "source": [
    "df = df.sort_values(by='F1 @71 (%)', ascending=False)\n",
    "df"
   ]
  },
  {
   "cell_type": "code",
   "execution_count": 6,
   "id": "e519d3e7-70c6-4e2e-8a9a-2bd289eadd15",
   "metadata": {},
   "outputs": [
    {
     "name": "stdout",
     "output_type": "stream",
     "text": [
      "gpt_4o\n",
      "0.39514200756577084\n",
      "gemini_15_pro\n",
      "0.5808545610789415\n",
      "claude_35_sonnet\n",
      "0.507297072716816\n",
      "groq_llama3.1_70b\n",
      "0.46123516307833634\n",
      "breeze7B\n",
      "0.32159315738501476\n"
     ]
    }
   ],
   "source": [
    "SUPPORTED_LABEL = 'Supported'\n",
    "NOT_SUPPORTED_LABEL = 'Not Supported'\n",
    "folder_path = \"./results/tw-f1\"\n",
    "files = [f for f in os.listdir(folder_path) if os.path.isfile(os.path.join(folder_path, f))]\n",
    "\n",
    "maybe_max_claims = 176\n",
    "data2 = {}\n",
    "for file in files:\n",
    "    # print(file)\n",
    "    file_path = os.path.join(folder_path, file)\n",
    "    result_data = utils.read_json(filepath=file_path)\n",
    "    tmp = []\n",
    "    f1 = []\n",
    "    print(result_data['responder_model_short'])\n",
    "    for prompt_data in result_data['per_prompt_data']:\n",
    "        tmp = metric_utils.calculate_metrics(\n",
    "              supported=prompt_data[\"side2_posthoc_eval_data\"][SUPPORTED_LABEL],\n",
    "              not_supported=prompt_data[\"side2_posthoc_eval_data\"][NOT_SUPPORTED_LABEL],\n",
    "              **({'max_claims': maybe_max_claims} if maybe_max_claims > 0 else {}),\n",
    "          )\n",
    "        f1.append(tmp)\n",
    "    f1 = np.array(f1)\n",
    "    data2[result_data['responder_model_short']] = f1.mean()\n",
    "    print(f1.mean())"
   ]
  },
  {
   "cell_type": "code",
   "execution_count": 7,
   "id": "13590809-b933-4b00-8d45-7b962ffcf2ff",
   "metadata": {},
   "outputs": [
    {
     "data": {
      "text/plain": [
       "{'gpt_4o': 0.39514200756577084,\n",
       " 'gemini_15_pro': 0.5808545610789415,\n",
       " 'claude_35_sonnet': 0.507297072716816,\n",
       " 'groq_llama3.1_70b': 0.46123516307833634,\n",
       " 'breeze7B': 0.32159315738501476}"
      ]
     },
     "execution_count": 7,
     "metadata": {},
     "output_type": "execute_result"
    }
   ],
   "source": [
    "data2"
   ]
  },
  {
   "cell_type": "code",
   "execution_count": 41,
   "id": "fbf140e6-7070-4998-85c3-188b7070ca89",
   "metadata": {},
   "outputs": [
    {
     "data": {
      "image/png": "[encoded data removed]",
      "text/plain": [
       "<Figure size 800x600 with 1 Axes>"
      ]
     },
     "metadata": {},
     "output_type": "display_data"
    }
   ],
   "source": [
    "import matplotlib.pyplot as plt\n",
    "\n",
    "k=71\n",
    "# Data in dictionary format\n",
    "data = data1\n",
    "\n",
    "data = {i:round(data[i]*100,1) for i in data}\n",
    "\n",
    "# Sort the dictionary by values in descending order\n",
    "sorted_data = dict(sorted(data.items(), key=lambda x: x[1], reverse=True))\n",
    "\n",
    "# Extract keys and values for plotting\n",
    "models = list(sorted_data.keys())\n",
    "scores = list(sorted_data.values())\n",
    "\n",
    "# Define color scheme\n",
    "colors = ['#1f77b4', '#ff7f0e', '#2ca02c', '#d62728', '#9467bd']\n",
    "\n",
    "\n",
    "# Plot configuration\n",
    "plt.figure(figsize=(8, 6))\n",
    "bars = plt.barh(models, scores, color=colors)\n",
    "\n",
    "# Add text annotations for the scores\n",
    "for bar, score in zip(bars, scores):\n",
    "    plt.text(bar.get_width() + 1, bar.get_y() + bar.get_height() / 2, f\"{score}\", va='center')\n",
    "\n",
    "# Axis labels and title\n",
    "plt.xlabel(f'$F_1@{k}$ (%)', fontsize=12)\n",
    "plt.xlim(0, 100)\n",
    "# plt.title('Model Performance Comparison', fontsize=14)\n",
    "plt.gca().invert_yaxis()  # Invert Y-axis for the desired order\n",
    "\n",
    "# Grid lines\n",
    "plt.grid(axis='x', linestyle='--', alpha=0.7)\n",
    "\n",
    "# Display the chart\n",
    "plt.tight_layout()\n",
    "plt.savefig('f171.png')\n",
    "plt.show()\n"
   ]
  },
  {
   "cell_type": "code",
   "execution_count": 40,
   "id": "c2157723-a201-4b1b-8411-6df579e3a989",
   "metadata": {},
   "outputs": [
    {
     "data": {
      "image/png": "[encoded data removed]",
      "text/plain": [
       "<Figure size 800x600 with 1 Axes>"
      ]
     },
     "metadata": {},
     "output_type": "display_data"
    }
   ],
   "source": [
    "import matplotlib.pyplot as plt\n",
    "\n",
    "k=176\n",
    "# Data in dictionary format\n",
    "data = data2\n",
    "\n",
    "data = {i:round(data[i]*100,1) for i in data}\n",
    "\n",
    "# Sort the dictionary by values in descending order\n",
    "sorted_data = dict(sorted(data.items(), key=lambda x: x[1], reverse=True))\n",
    "\n",
    "# Extract keys and values for plotting\n",
    "models = list(sorted_data.keys())\n",
    "scores = list(sorted_data.values())\n",
    "\n",
    "# Define color scheme\n",
    "colors = ['#1f77b4', '#ff7f0e', '#2ca02c', '#d62728', '#9467bd']\n",
    "\n",
    "\n",
    "# Plot configuration\n",
    "plt.figure(figsize=(8, 6))\n",
    "bars = plt.barh(models, scores, color=colors)\n",
    "\n",
    "# Add text annotations for the scores\n",
    "for bar, score in zip(bars, scores):\n",
    "    plt.text(bar.get_width() + 1, bar.get_y() + bar.get_height() / 2, f\"{score}\", va='center')\n",
    "\n",
    "# Axis labels and title\n",
    "plt.xlabel(f'$F_1@{k}$ (%)', fontsize=12)\n",
    "plt.xlim(0, 100)\n",
    "# plt.title('Model Performance Comparison', fontsize=14)\n",
    "plt.gca().invert_yaxis()  # Invert Y-axis for the desired order\n",
    "\n",
    "# Grid lines\n",
    "plt.grid(axis='x', linestyle='--', alpha=0.7)\n",
    "\n",
    "# Display the chart\n",
    "plt.tight_layout()\n",
    "plt.savefig('f1176.png')\n",
    "plt.show()\n"
   ]
  },
  {
   "cell_type": "code",
   "execution_count": null,
   "id": "7e174b53-c119-493d-9fb9-b0fd27b80f05",
   "metadata": {},
   "outputs": [],
   "source": []
  }
 ],
 "metadata": {
  "kernelspec": {
   "display_name": "Python 3 (ipykernel)",
   "language": "python",
   "name": "python3"
  },
  "language_info": {
   "codemirror_mode": {
    "name": "ipython",
    "version": 3
   },
   "file_extension": ".py",
   "mimetype": "text/x-python",
   "name": "python",
   "nbconvert_exporter": "python",
   "pygments_lexer": "ipython3",
   "version": "3.10.14"
  }
 },
 "nbformat": 4,
 "nbformat_minor": 5
}
